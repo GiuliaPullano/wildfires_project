{
 "cells": [
  {
   "cell_type": "code",
   "execution_count": 114,
   "id": "2f10b9ca-69cc-473e-85a8-90f30be578b1",
   "metadata": {},
   "outputs": [],
   "source": [
    "import numpy as np\n",
    "import pandas as pd\n",
    "import geopandas\n",
    "import statsmodels.formula.api as smf"
   ]
  },
  {
   "cell_type": "code",
   "execution_count": 115,
   "id": "16de3ed9-da5a-458b-b6ef-5cf07680bebf",
   "metadata": {},
   "outputs": [],
   "source": [
    "def kernel(R, c, h):\n",
    "    indicator = (np.abs(R-c) <= h).astype(float)\n",
    "    return indicator * (1 - np.abs(R-c)/h)"
   ]
  },
  {
   "cell_type": "code",
   "execution_count": 116,
   "id": "d5a1a673-bc15-475c-bc7d-09c517872a36",
   "metadata": {},
   "outputs": [],
   "source": [
    "def RD_approach(df,bw_value=28):   \n",
    "    \n",
    "    rdd_df = df.assign(threshold=(df[\"date\"] > 0).astype(int))\n",
    "    model = smf.wls(\"r~date*threshold\", rdd_df,weights=kernel(df[\"date\"], c=0, h=bw_value)).fit()\n",
    "\n",
    "    return pd.DataFrame(model.params).rename(columns={0:'coeff'}).loc[['threshold','Intercept'],:].join(model.conf_int(alpha=0.05).rename(columns={0:'[0.05', 1:'0.95]'}))"
   ]
  },
  {
   "cell_type": "code",
   "execution_count": 117,
   "id": "f7b90930-9c71-4c18-bc05-4a310e67ef84",
   "metadata": {},
   "outputs": [],
   "source": [
    "idx=pd.IndexSlice"
   ]
  },
  {
   "cell_type": "markdown",
   "id": "ba600d4e-495d-4531-a9de-219f025cd517",
   "metadata": {},
   "source": [
    "# Reading data"
   ]
  },
  {
   "cell_type": "code",
   "execution_count": 118,
   "id": "d0c5c522-e3ee-40bf-ae75-a8f81e3aeea8",
   "metadata": {},
   "outputs": [],
   "source": [
    "US_maps=geopandas.read_file('./wildfires_project/Data/USA_shapefile/county_level/')"
   ]
  },
  {
   "cell_type": "code",
   "execution_count": 119,
   "id": "730f2463-653d-463c-9967-f320a6d5b56e",
   "metadata": {},
   "outputs": [],
   "source": [
    "social_distancing_df=pd.read_csv('./wildfires_project/Data/social_distancing_county_2019_2020_2021.csv')\n",
    "social_distancing_df.date=pd.to_datetime(social_distancing_df.date)\n",
    "social_distancing_df.set_index(['county_fips','date'],inplace=True)\n",
    "social_distancing_df.sort_index(inplace=True)"
   ]
  },
  {
   "cell_type": "code",
   "execution_count": 120,
   "id": "47c0c74d-d974-4520-92e7-9b169d5d8614",
   "metadata": {},
   "outputs": [],
   "source": [
    "hit_county_WA=pd.read_csv('./wildfires_project/Data/affected_counties_WA.csv')"
   ]
  },
  {
   "cell_type": "code",
   "execution_count": 121,
   "id": "01e84562-f25a-4fe6-8fb5-1267b6d0e897",
   "metadata": {},
   "outputs": [],
   "source": [
    "hit_county_OR=pd.read_csv('./wildfires_project/Data/affected_counties_OR.csv')"
   ]
  },
  {
   "cell_type": "code",
   "execution_count": 122,
   "id": "a33742ad-b9c7-44a0-aaf2-539f8fb12738",
   "metadata": {},
   "outputs": [],
   "source": [
    "indoor_activity=pd.read_csv('./wildfires_project/Data/indoor_activity_index/indoor_activity_2018_2021_not_smoothed.csv')\n",
    "indoor_activity_1=pd.read_csv('./wildfires_project/Data/indoor_activity_index/indoor_activity_2018_not_smoothed.csv').rename(columns={'countyFIPS':'county','inprop_outprop_centered':'r'})\n",
    "indoor_activity_2=pd.read_csv('./wildfires_project/Data/indoor_activity_index/indoor_activity_2019_not_smoothed.csv').rename(columns={'countyFIPS':'county','inprop_outprop_centered':'r'})\n",
    "indoor_activity=pd.concat([indoor_activity,indoor_activity_1,indoor_activity_2])\n",
    "indoor_activity.date=pd.to_datetime(indoor_activity.date)\n",
    "indoor_activity.set_index(['county','date'], inplace=True)\n",
    "indoor_activity.sort_index(inplace=True)\n",
    "indoor_activity['week']=np.array(indoor_activity.index.get_level_values(1).isocalendar().week)"
   ]
  },
  {
   "cell_type": "markdown",
   "id": "89c75d5f-0414-404a-8a44-6693798bc83f",
   "metadata": {},
   "source": [
    "# Regression Discontinuity for Washington"
   ]
  },
  {
   "cell_type": "code",
   "execution_count": 123,
   "id": "c3b5f733-2e1e-4f66-b082-1be4791ac576",
   "metadata": {},
   "outputs": [],
   "source": [
    "results_IA_WA_counties=[]\n",
    "for i in range(len(hit_county_WA.county)):    \n",
    "    RD_setup_IA_df=indoor_activity[(indoor_activity.index.get_level_values(1)>='2020-06-01')&(indoor_activity.index.get_level_values(1)<='2020-12-30')].loc[idx[hit_county_WA.county[i],:],['r']].droplevel(0)\n",
    "    RD_setup_IA_df.index=(RD_setup_IA_df.index-pd.to_datetime('2020-09-10')).total_seconds()/86400\n",
    "    RD_setup_IA_df.reset_index(inplace=True)\n",
    "    results_IA_WA_counties.append(RD_approach(RD_setup_IA_df,28))"
   ]
  },
  {
   "cell_type": "code",
   "execution_count": 124,
   "id": "b0c733ec-8798-49dd-8bf4-b40663e3f86b",
   "metadata": {},
   "outputs": [],
   "source": [
    "results_IA_WA_counties=pd.concat(results_IA_WA_counties)\n",
    "results_IA_WA_counties.index=[np.repeat(hit_county_WA.county,2),results_IA_WA_counties.index]"
   ]
  },
  {
   "cell_type": "code",
   "execution_count": 125,
   "id": "287e4037-aba4-4c22-b40e-1b6e92c1b541",
   "metadata": {},
   "outputs": [
    {
     "data": {
      "text/html": [
       "<div>\n",
       "<style scoped>\n",
       "    .dataframe tbody tr th:only-of-type {\n",
       "        vertical-align: middle;\n",
       "    }\n",
       "\n",
       "    .dataframe tbody tr th {\n",
       "        vertical-align: top;\n",
       "    }\n",
       "\n",
       "    .dataframe thead th {\n",
       "        text-align: right;\n",
       "    }\n",
       "</style>\n",
       "<table border=\"1\" class=\"dataframe\">\n",
       "  <thead>\n",
       "    <tr style=\"text-align: right;\">\n",
       "      <th></th>\n",
       "      <th></th>\n",
       "      <th>coeff</th>\n",
       "      <th>[0.05</th>\n",
       "      <th>0.95]</th>\n",
       "    </tr>\n",
       "    <tr>\n",
       "      <th>county</th>\n",
       "      <th></th>\n",
       "      <th></th>\n",
       "      <th></th>\n",
       "      <th></th>\n",
       "    </tr>\n",
       "  </thead>\n",
       "  <tbody>\n",
       "    <tr>\n",
       "      <th rowspan=\"2\" valign=\"top\">53033</th>\n",
       "      <th>threshold</th>\n",
       "      <td>0.149174</td>\n",
       "      <td>0.100468</td>\n",
       "      <td>0.197879</td>\n",
       "    </tr>\n",
       "    <tr>\n",
       "      <th>Intercept</th>\n",
       "      <td>0.984758</td>\n",
       "      <td>0.952210</td>\n",
       "      <td>1.017306</td>\n",
       "    </tr>\n",
       "    <tr>\n",
       "      <th rowspan=\"2\" valign=\"top\">53063</th>\n",
       "      <th>threshold</th>\n",
       "      <td>0.130216</td>\n",
       "      <td>0.076052</td>\n",
       "      <td>0.184380</td>\n",
       "    </tr>\n",
       "    <tr>\n",
       "      <th>Intercept</th>\n",
       "      <td>0.930846</td>\n",
       "      <td>0.894650</td>\n",
       "      <td>0.967041</td>\n",
       "    </tr>\n",
       "    <tr>\n",
       "      <th rowspan=\"2\" valign=\"top\">53011</th>\n",
       "      <th>threshold</th>\n",
       "      <td>0.097515</td>\n",
       "      <td>0.016246</td>\n",
       "      <td>0.178784</td>\n",
       "    </tr>\n",
       "    <tr>\n",
       "      <th>Intercept</th>\n",
       "      <td>0.954609</td>\n",
       "      <td>0.900300</td>\n",
       "      <td>1.008918</td>\n",
       "    </tr>\n",
       "    <tr>\n",
       "      <th rowspan=\"2\" valign=\"top\">53067</th>\n",
       "      <th>threshold</th>\n",
       "      <td>0.150016</td>\n",
       "      <td>0.091560</td>\n",
       "      <td>0.208473</td>\n",
       "    </tr>\n",
       "    <tr>\n",
       "      <th>Intercept</th>\n",
       "      <td>0.849217</td>\n",
       "      <td>0.810153</td>\n",
       "      <td>0.888281</td>\n",
       "    </tr>\n",
       "    <tr>\n",
       "      <th rowspan=\"2\" valign=\"top\">53077</th>\n",
       "      <th>threshold</th>\n",
       "      <td>0.021650</td>\n",
       "      <td>0.004092</td>\n",
       "      <td>0.039207</td>\n",
       "    </tr>\n",
       "    <tr>\n",
       "      <th>Intercept</th>\n",
       "      <td>0.985441</td>\n",
       "      <td>0.973708</td>\n",
       "      <td>0.997174</td>\n",
       "    </tr>\n",
       "  </tbody>\n",
       "</table>\n",
       "</div>"
      ],
      "text/plain": [
       "                     coeff     [0.05     0.95]\n",
       "county                                        \n",
       "53033  threshold  0.149174  0.100468  0.197879\n",
       "       Intercept  0.984758  0.952210  1.017306\n",
       "53063  threshold  0.130216  0.076052  0.184380\n",
       "       Intercept  0.930846  0.894650  0.967041\n",
       "53011  threshold  0.097515  0.016246  0.178784\n",
       "       Intercept  0.954609  0.900300  1.008918\n",
       "53067  threshold  0.150016  0.091560  0.208473\n",
       "       Intercept  0.849217  0.810153  0.888281\n",
       "53077  threshold  0.021650  0.004092  0.039207\n",
       "       Intercept  0.985441  0.973708  0.997174"
      ]
     },
     "execution_count": 125,
     "metadata": {},
     "output_type": "execute_result"
    }
   ],
   "source": [
    "results_IA_WA_counties"
   ]
  },
  {
   "cell_type": "code",
   "execution_count": 126,
   "id": "f9a93394-1f20-467b-954a-8bb61668fa34",
   "metadata": {},
   "outputs": [],
   "source": [
    "#(results_IA_WA_counties.groupby('county').agg({'coeff':'first'})/results_IA_WA_counties.groupby('county').agg({'coeff':'last'})).to_csv('./wildfires_project/Data/Relative_Varitation_indoor_activities_WA.csv')"
   ]
  },
  {
   "cell_type": "code",
   "execution_count": 127,
   "id": "8d5da299-eec6-4d25-a5c4-bd6ac3adbe83",
   "metadata": {},
   "outputs": [],
   "source": [
    "results_IA_WA_counties.to_csv('./wildfires_project/Data/results_RD_WA_indoor_activities.csv')"
   ]
  },
  {
   "cell_type": "markdown",
   "id": "dda0e306-5ec3-45a4-9523-08f64032b480",
   "metadata": {},
   "source": [
    "# Regression Discontinuity for Oregon"
   ]
  },
  {
   "cell_type": "code",
   "execution_count": 128,
   "id": "9ec0583b-1cc9-4e99-970c-3c5aea3c029c",
   "metadata": {},
   "outputs": [],
   "source": [
    "results_IA_OR_counties=[]\n",
    "models=[]\n",
    "for i in range(len(hit_county_OR.county)):    \n",
    "    RD_setup_IA_df=indoor_activity[(indoor_activity.index.get_level_values(1)>='2020-06-01')&(indoor_activity.index.get_level_values(1)<='2020-12-30')].loc[idx[hit_county_OR.county[i],:],['r']].droplevel(0)\n",
    "    RD_setup_IA_df.index=(RD_setup_IA_df.index-pd.to_datetime('2020-09-10')).total_seconds()/86400\n",
    "    RD_setup_IA_df.reset_index(inplace=True)\n",
    "    model_results=RD_approach(RD_setup_IA_df,28)\n",
    "    results_IA_OR_counties.append(model_results)"
   ]
  },
  {
   "cell_type": "code",
   "execution_count": 129,
   "id": "7aa8de0c-5b0c-4ce6-b3c2-1754f85d1e9d",
   "metadata": {},
   "outputs": [],
   "source": [
    "results_IA_OR_counties=pd.concat(results_IA_OR_counties)\n",
    "results_IA_OR_counties.index=[np.repeat(hit_county_OR.county,2),results_IA_OR_counties.index]"
   ]
  },
  {
   "cell_type": "code",
   "execution_count": 130,
   "id": "5c85fd20-8073-4f48-a4af-b17cff591b8e",
   "metadata": {},
   "outputs": [
    {
     "data": {
      "text/html": [
       "<div>\n",
       "<style scoped>\n",
       "    .dataframe tbody tr th:only-of-type {\n",
       "        vertical-align: middle;\n",
       "    }\n",
       "\n",
       "    .dataframe tbody tr th {\n",
       "        vertical-align: top;\n",
       "    }\n",
       "\n",
       "    .dataframe thead th {\n",
       "        text-align: right;\n",
       "    }\n",
       "</style>\n",
       "<table border=\"1\" class=\"dataframe\">\n",
       "  <thead>\n",
       "    <tr style=\"text-align: right;\">\n",
       "      <th></th>\n",
       "      <th></th>\n",
       "      <th>coeff</th>\n",
       "      <th>[0.05</th>\n",
       "      <th>0.95]</th>\n",
       "    </tr>\n",
       "    <tr>\n",
       "      <th>county</th>\n",
       "      <th></th>\n",
       "      <th></th>\n",
       "      <th></th>\n",
       "      <th></th>\n",
       "    </tr>\n",
       "  </thead>\n",
       "  <tbody>\n",
       "    <tr>\n",
       "      <th rowspan=\"2\" valign=\"top\">41051</th>\n",
       "      <th>threshold</th>\n",
       "      <td>0.094503</td>\n",
       "      <td>0.001251</td>\n",
       "      <td>0.187754</td>\n",
       "    </tr>\n",
       "    <tr>\n",
       "      <th>Intercept</th>\n",
       "      <td>0.989218</td>\n",
       "      <td>0.926901</td>\n",
       "      <td>1.051534</td>\n",
       "    </tr>\n",
       "    <tr>\n",
       "      <th rowspan=\"2\" valign=\"top\">41067</th>\n",
       "      <th>threshold</th>\n",
       "      <td>0.070382</td>\n",
       "      <td>-0.005122</td>\n",
       "      <td>0.145887</td>\n",
       "    </tr>\n",
       "    <tr>\n",
       "      <th>Intercept</th>\n",
       "      <td>1.065776</td>\n",
       "      <td>1.015319</td>\n",
       "      <td>1.116233</td>\n",
       "    </tr>\n",
       "    <tr>\n",
       "      <th rowspan=\"2\" valign=\"top\">41005</th>\n",
       "      <th>threshold</th>\n",
       "      <td>0.297404</td>\n",
       "      <td>0.230690</td>\n",
       "      <td>0.364119</td>\n",
       "    </tr>\n",
       "    <tr>\n",
       "      <th>Intercept</th>\n",
       "      <td>0.915694</td>\n",
       "      <td>0.871111</td>\n",
       "      <td>0.960277</td>\n",
       "    </tr>\n",
       "    <tr>\n",
       "      <th rowspan=\"2\" valign=\"top\">41039</th>\n",
       "      <th>threshold</th>\n",
       "      <td>0.066387</td>\n",
       "      <td>-0.006087</td>\n",
       "      <td>0.138861</td>\n",
       "    </tr>\n",
       "    <tr>\n",
       "      <th>Intercept</th>\n",
       "      <td>1.053138</td>\n",
       "      <td>1.004707</td>\n",
       "      <td>1.101570</td>\n",
       "    </tr>\n",
       "    <tr>\n",
       "      <th rowspan=\"2\" valign=\"top\">41047</th>\n",
       "      <th>threshold</th>\n",
       "      <td>0.019234</td>\n",
       "      <td>-0.064098</td>\n",
       "      <td>0.102565</td>\n",
       "    </tr>\n",
       "    <tr>\n",
       "      <th>Intercept</th>\n",
       "      <td>1.064749</td>\n",
       "      <td>1.009062</td>\n",
       "      <td>1.120436</td>\n",
       "    </tr>\n",
       "  </tbody>\n",
       "</table>\n",
       "</div>"
      ],
      "text/plain": [
       "                     coeff     [0.05     0.95]\n",
       "county                                        \n",
       "41051  threshold  0.094503  0.001251  0.187754\n",
       "       Intercept  0.989218  0.926901  1.051534\n",
       "41067  threshold  0.070382 -0.005122  0.145887\n",
       "       Intercept  1.065776  1.015319  1.116233\n",
       "41005  threshold  0.297404  0.230690  0.364119\n",
       "       Intercept  0.915694  0.871111  0.960277\n",
       "41039  threshold  0.066387 -0.006087  0.138861\n",
       "       Intercept  1.053138  1.004707  1.101570\n",
       "41047  threshold  0.019234 -0.064098  0.102565\n",
       "       Intercept  1.064749  1.009062  1.120436"
      ]
     },
     "execution_count": 130,
     "metadata": {},
     "output_type": "execute_result"
    }
   ],
   "source": [
    "results_IA_OR_counties"
   ]
  },
  {
   "cell_type": "code",
   "execution_count": 131,
   "id": "b9cfe3b7-2c71-4b3c-a9d6-83859a95ca4f",
   "metadata": {},
   "outputs": [],
   "source": [
    "results_IA_OR_counties.to_csv('./wildfires_project/Data/results_RD_OR_indoor_activities.csv')"
   ]
  },
  {
   "cell_type": "code",
   "execution_count": 132,
   "id": "30746f2b-895f-4554-a304-6c74cbe7e7ec",
   "metadata": {},
   "outputs": [],
   "source": [
    "#(results_IA_OR_counties.groupby('county').agg({'coeff':'first'})/results_IA_OR_counties.groupby('county').agg({'coeff':'last'})).to_csv('./wildfires_project/Data/Relative_Variation_indoor_activities_OR.csv')"
   ]
  },
  {
   "cell_type": "code",
   "execution_count": null,
   "id": "f04b2805-1dca-4b5b-a866-84a4254d1dff",
   "metadata": {},
   "outputs": [],
   "source": []
  }
 ],
 "metadata": {
  "kernelspec": {
   "display_name": "Python 3 (ipykernel)",
   "language": "python",
   "name": "python3"
  },
  "language_info": {
   "codemirror_mode": {
    "name": "ipython",
    "version": 3
   },
   "file_extension": ".py",
   "mimetype": "text/x-python",
   "name": "python",
   "nbconvert_exporter": "python",
   "pygments_lexer": "ipython3",
   "version": "3.10.8"
  }
 },
 "nbformat": 4,
 "nbformat_minor": 5
}
