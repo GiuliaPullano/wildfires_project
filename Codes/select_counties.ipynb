{
 "cells": [
  {
   "cell_type": "markdown",
   "metadata": {},
   "source": [
    "# Import libraries"
   ]
  },
  {
   "cell_type": "code",
   "execution_count": 1,
   "metadata": {},
   "outputs": [
    {
     "name": "stderr",
     "output_type": "stream",
     "text": [
      "/Library/Frameworks/Python.framework/Versions/3.10/lib/python3.10/site-packages/geopandas/_compat.py:112: UserWarning: The Shapely GEOS version (3.10.3-CAPI-1.16.1) is incompatible with the GEOS version PyGEOS was compiled with (3.10.4-CAPI-1.16.2). Conversions between both will be slow.\n",
      "  warnings.warn(\n"
     ]
    }
   ],
   "source": [
    "import pandas as pd\n",
    "import datetime\n",
    "import functools as ft\n",
    "import seaborn as sns\n",
    "import geopandas as gp\n"
   ]
  },
  {
   "cell_type": "markdown",
   "metadata": {},
   "source": [
    "# Read data"
   ]
  },
  {
   "cell_type": "code",
   "execution_count": 5,
   "metadata": {},
   "outputs": [],
   "source": [
    "data_folder = \"./Desktop/wildfires_project/Data/\""
   ]
  },
  {
   "cell_type": "markdown",
   "metadata": {},
   "source": [
    "Read shapefiles"
   ]
  },
  {
   "cell_type": "code",
   "execution_count": 6,
   "metadata": {},
   "outputs": [],
   "source": [
    "df_location = pd.read_csv(data_folder+\"USA_shapefile/us_shapefile_county.csv\", dtype={\"GEOID\": str})\n",
    "df_location[\"pop_dens2020\"] = df_location[\"pop2020\"]/df_location[\"CENSUSAREA\"]"
   ]
  },
  {
   "cell_type": "code",
   "execution_count": 7,
   "metadata": {},
   "outputs": [],
   "source": [
    "shp=gp.read_file(data_folder+\"USA_shapefile/county_level/us_shapefile_county.shp\")"
   ]
  },
  {
   "cell_type": "markdown",
   "metadata": {},
   "source": [
    "Read community class data and air quality data to define the reference timeframe\n"
   ]
  },
  {
   "cell_type": "code",
   "execution_count": 8,
   "metadata": {},
   "outputs": [],
   "source": [
    "df_community = pd.read_csv(data_folder+\"community_structure_counties.csv\")\n",
    "all_airquality = pd.read_csv(data_folder+\"all_AQI.csv\")\n",
    "\n",
    "all_airquality[\"date\"] = pd.to_datetime(all_airquality[\"date\"])\n",
    "all_airquality[\"year\"] = all_airquality[\"date\"].dt.year\n",
    "\n",
    "airquality_target = all_airquality[(all_airquality[\"date\"] >= \"2020-07-01\")&(all_airquality[\"date\"] <= \"2020-10-31\")]\n"
   ]
  },
  {
   "cell_type": "markdown",
   "metadata": {},
   "source": [
    "Spatial distance file "
   ]
  },
  {
   "cell_type": "code",
   "execution_count": 9,
   "metadata": {},
   "outputs": [],
   "source": [
    "dist=pd.read_csv(data_folder+'distance_counties.csv').set_index('county1')"
   ]
  },
  {
   "cell_type": "markdown",
   "metadata": {},
   "source": [
    "# Oregon"
   ]
  },
  {
   "cell_type": "markdown",
   "metadata": {},
   "source": [
    "Read air quality data for the country of reference"
   ]
  },
  {
   "cell_type": "code",
   "execution_count": 10,
   "metadata": {},
   "outputs": [],
   "source": [
    "df_2020 = pd.read_csv(data_folder+\"air quality/air_quality_OR_2020.csv\")"
   ]
  },
  {
   "cell_type": "markdown",
   "metadata": {},
   "source": [
    "Define \"after the shock\" timeframe and analyze counties and dates with problematic AQI "
   ]
  },
  {
   "cell_type": "code",
   "execution_count": 11,
   "metadata": {},
   "outputs": [
    {
     "name": "stderr",
     "output_type": "stream",
     "text": [
      "/var/folders/x2/vgw4xx790y58wb87xzlpylpc0000gr/T/ipykernel_30492/3782595190.py:3: FutureWarning: Series.dt.weekofyear and Series.dt.week have been deprecated. Please use Series.dt.isocalendar().week instead.\n",
      "  df_2020['week_id'] = df_2020['date'].dt.week\n"
     ]
    }
   ],
   "source": [
    "df_2020[\"date\"] = pd.to_datetime(df_2020[\"date\"])\n",
    "df_2020[\"year\"] = df_2020[\"date\"].dt.year\n",
    "df_2020['week_id'] = df_2020['date'].dt.week\n",
    "\n",
    "df_fire = df_2020[(df_2020[\"date\"] >= \"2020-09-10\")&(df_2020[\"date\"] <= \"2020-10-31\")]\n",
    "df_fire_hazard = df_fire[df_fire[\"AQI index\"]>150]\n"
   ]
  },
  {
   "cell_type": "markdown",
   "metadata": {},
   "source": [
    "Merge fire hazard dataframe with location dataframe, to get info on FIPS code and population"
   ]
  },
  {
   "cell_type": "code",
   "execution_count": 12,
   "metadata": {},
   "outputs": [],
   "source": [
    "df_counties_select = pd.merge(df_fire_hazard,df_location[['FIPS code','Alpha code', 'NAME', 'pop2020']],left_on ='fips_code', right_on='FIPS code', how='left')"
   ]
  },
  {
   "cell_type": "markdown",
   "metadata": {},
   "source": [
    "Select counties that have had problematic AQI for at least 3 days in a row"
   ]
  },
  {
   "cell_type": "code",
   "execution_count": 13,
   "metadata": {},
   "outputs": [],
   "source": [
    "list_select_names = []\n",
    "for name in df_counties_select[\"NAME\"].unique():\n",
    "    if len(df_counties_select[df_counties_select[\"NAME\"]==name])>=3:\n",
    "        list_select_names.append(name)"
   ]
  },
  {
   "cell_type": "code",
   "execution_count": 14,
   "metadata": {},
   "outputs": [],
   "source": [
    "df_counties_select = df_counties_select[df_counties_select[\"NAME\"].isin(list_select_names)]"
   ]
  },
  {
   "cell_type": "code",
   "execution_count": 15,
   "metadata": {},
   "outputs": [],
   "source": [
    "list_counties = list(df_counties_select[df_counties_select[\"NAME\"].isin(list_select_names)][\"fips_code\"].unique())"
   ]
  },
  {
   "cell_type": "markdown",
   "metadata": {},
   "source": [
    "Select only counties that are in \"0\" modularity class"
   ]
  },
  {
   "cell_type": "code",
   "execution_count": 16,
   "metadata": {},
   "outputs": [],
   "source": [
    "class0_counties = df_community[(df_community[\"node\"].isin(list_counties))&(df_community[\"modularity_class\"]==0)]"
   ]
  },
  {
   "cell_type": "markdown",
   "metadata": {},
   "source": [
    "Merge with population size and create dataframe with node, population size"
   ]
  },
  {
   "cell_type": "code",
   "execution_count": 17,
   "metadata": {},
   "outputs": [],
   "source": [
    "df_hit_counties = class0_counties.merge(df_counties_select, left_on=\"node\", right_on=\"fips_code\")\n",
    "\n",
    "list_df = []\n",
    "for node in df_hit_counties[\"node\"].unique():\n",
    "    pop_size = df_hit_counties[df_hit_counties[\"node\"]==node][\"pop2020\"].values[0]\n",
    "    list_df.append([node, pop_size])\n",
    "\n",
    "df_hit_counties = pd.DataFrame(list_df, columns=[\"county\", \"population\"])"
   ]
  },
  {
   "cell_type": "markdown",
   "metadata": {},
   "source": [
    "Order by population size and take top 5 most populated counties as the reference affected one"
   ]
  },
  {
   "cell_type": "code",
   "execution_count": 18,
   "metadata": {},
   "outputs": [
    {
     "data": {
      "text/html": [
       "<div>\n",
       "<style scoped>\n",
       "    .dataframe tbody tr th:only-of-type {\n",
       "        vertical-align: middle;\n",
       "    }\n",
       "\n",
       "    .dataframe tbody tr th {\n",
       "        vertical-align: top;\n",
       "    }\n",
       "\n",
       "    .dataframe thead th {\n",
       "        text-align: right;\n",
       "    }\n",
       "</style>\n",
       "<table border=\"1\" class=\"dataframe\">\n",
       "  <thead>\n",
       "    <tr style=\"text-align: right;\">\n",
       "      <th></th>\n",
       "      <th>county</th>\n",
       "      <th>population</th>\n",
       "    </tr>\n",
       "  </thead>\n",
       "  <tbody>\n",
       "    <tr>\n",
       "      <th>3</th>\n",
       "      <td>41051</td>\n",
       "      <td>815871.0</td>\n",
       "    </tr>\n",
       "    <tr>\n",
       "      <th>13</th>\n",
       "      <td>41067</td>\n",
       "      <td>600689.0</td>\n",
       "    </tr>\n",
       "    <tr>\n",
       "      <th>11</th>\n",
       "      <td>41005</td>\n",
       "      <td>422160.0</td>\n",
       "    </tr>\n",
       "    <tr>\n",
       "      <th>5</th>\n",
       "      <td>41039</td>\n",
       "      <td>382940.0</td>\n",
       "    </tr>\n",
       "    <tr>\n",
       "      <th>14</th>\n",
       "      <td>41047</td>\n",
       "      <td>346202.0</td>\n",
       "    </tr>\n",
       "  </tbody>\n",
       "</table>\n",
       "</div>"
      ],
      "text/plain": [
       "    county  population\n",
       "3    41051    815871.0\n",
       "13   41067    600689.0\n",
       "11   41005    422160.0\n",
       "5    41039    382940.0\n",
       "14   41047    346202.0"
      ]
     },
     "execution_count": 18,
     "metadata": {},
     "output_type": "execute_result"
    }
   ],
   "source": [
    "df_hit_counties = df_hit_counties.sort_values(by=\"population\", ascending=False)[:5]\n",
    "df_hit_counties"
   ]
  },
  {
   "cell_type": "markdown",
   "metadata": {},
   "source": [
    "Save dataframe as csv"
   ]
  },
  {
   "cell_type": "code",
   "execution_count": 19,
   "metadata": {},
   "outputs": [],
   "source": [
    "df_hit_counties.to_csv(data_folder+\"/affected_counties_OR.csv\")"
   ]
  },
  {
   "cell_type": "markdown",
   "metadata": {},
   "source": [
    "# Washington"
   ]
  },
  {
   "cell_type": "markdown",
   "metadata": {},
   "source": [
    "Read air quality data for the country of reference"
   ]
  },
  {
   "cell_type": "code",
   "execution_count": 20,
   "metadata": {},
   "outputs": [],
   "source": [
    "df_2020 = pd.read_csv(data_folder+\"air quality/air_quality_WA_2020.csv\")"
   ]
  },
  {
   "cell_type": "markdown",
   "metadata": {},
   "source": [
    "Define \"after the shock\" timeframe and analyze counties and dates with problematic AQI "
   ]
  },
  {
   "cell_type": "code",
   "execution_count": 21,
   "metadata": {},
   "outputs": [
    {
     "name": "stderr",
     "output_type": "stream",
     "text": [
      "/var/folders/x2/vgw4xx790y58wb87xzlpylpc0000gr/T/ipykernel_30492/3782595190.py:3: FutureWarning: Series.dt.weekofyear and Series.dt.week have been deprecated. Please use Series.dt.isocalendar().week instead.\n",
      "  df_2020['week_id'] = df_2020['date'].dt.week\n"
     ]
    }
   ],
   "source": [
    "df_2020[\"date\"] = pd.to_datetime(df_2020[\"date\"])\n",
    "df_2020[\"year\"] = df_2020[\"date\"].dt.year\n",
    "df_2020['week_id'] = df_2020['date'].dt.week\n",
    "\n",
    "df_fire = df_2020[(df_2020[\"date\"] >= \"2020-09-10\")&(df_2020[\"date\"] <= \"2020-10-31\")]\n",
    "df_fire_hazard = df_fire[df_fire[\"AQI index\"]>150]\n"
   ]
  },
  {
   "cell_type": "markdown",
   "metadata": {},
   "source": [
    "Merge fire hazard dataframe with location dataframe, to get info on FIPS code and population"
   ]
  },
  {
   "cell_type": "code",
   "execution_count": 22,
   "metadata": {},
   "outputs": [],
   "source": [
    "df_counties_select = pd.merge(df_fire_hazard,df_location[['FIPS code','Alpha code', 'NAME', 'pop2020']],left_on ='fips_code', right_on='FIPS code', how='left')"
   ]
  },
  {
   "cell_type": "markdown",
   "metadata": {},
   "source": [
    "Select counties that have had problematic AQI for at least 3 days in a row"
   ]
  },
  {
   "cell_type": "code",
   "execution_count": 23,
   "metadata": {},
   "outputs": [],
   "source": [
    "list_select_names = []\n",
    "for name in df_counties_select[\"NAME\"].unique():\n",
    "    if len(df_counties_select[df_counties_select[\"NAME\"]==name])>=3:\n",
    "        list_select_names.append(name)"
   ]
  },
  {
   "cell_type": "code",
   "execution_count": 24,
   "metadata": {},
   "outputs": [],
   "source": [
    "df_counties_select = df_counties_select[df_counties_select[\"NAME\"].isin(list_select_names)]"
   ]
  },
  {
   "cell_type": "code",
   "execution_count": 25,
   "metadata": {},
   "outputs": [],
   "source": [
    "list_counties = list(df_counties_select[df_counties_select[\"NAME\"].isin(list_select_names)][\"fips_code\"].unique())"
   ]
  },
  {
   "cell_type": "markdown",
   "metadata": {},
   "source": [
    "Select only counties that are in \"0\" modularity class"
   ]
  },
  {
   "cell_type": "code",
   "execution_count": 26,
   "metadata": {},
   "outputs": [],
   "source": [
    "class0_counties = df_community[(df_community[\"node\"].isin(list_counties))&(df_community[\"modularity_class\"]==0)]"
   ]
  },
  {
   "cell_type": "markdown",
   "metadata": {},
   "source": [
    "Merge with population size and create dataframe with node, population size"
   ]
  },
  {
   "cell_type": "code",
   "execution_count": 27,
   "metadata": {},
   "outputs": [],
   "source": [
    "df_hit_counties = class0_counties.merge(df_counties_select, left_on=\"node\", right_on=\"fips_code\")\n",
    "\n",
    "list_df = []\n",
    "for node in df_hit_counties[\"node\"].unique():\n",
    "    pop_size = df_hit_counties[df_hit_counties[\"node\"]==node][\"pop2020\"].values[0]\n",
    "    list_df.append([node, pop_size])\n",
    "\n",
    "df_hit_counties = pd.DataFrame(list_df, columns=[\"county\", \"population\"])"
   ]
  },
  {
   "cell_type": "markdown",
   "metadata": {},
   "source": [
    "Order by population size and take top 5 most populated counties as the reference affected one"
   ]
  },
  {
   "cell_type": "code",
   "execution_count": 28,
   "metadata": {},
   "outputs": [
    {
     "data": {
      "text/html": [
       "<div>\n",
       "<style scoped>\n",
       "    .dataframe tbody tr th:only-of-type {\n",
       "        vertical-align: middle;\n",
       "    }\n",
       "\n",
       "    .dataframe tbody tr th {\n",
       "        vertical-align: top;\n",
       "    }\n",
       "\n",
       "    .dataframe thead th {\n",
       "        text-align: right;\n",
       "    }\n",
       "</style>\n",
       "<table border=\"1\" class=\"dataframe\">\n",
       "  <thead>\n",
       "    <tr style=\"text-align: right;\">\n",
       "      <th></th>\n",
       "      <th>county</th>\n",
       "      <th>population</th>\n",
       "    </tr>\n",
       "  </thead>\n",
       "  <tbody>\n",
       "    <tr>\n",
       "      <th>6</th>\n",
       "      <td>53033</td>\n",
       "      <td>2272571.0</td>\n",
       "    </tr>\n",
       "    <tr>\n",
       "      <th>3</th>\n",
       "      <td>53063</td>\n",
       "      <td>540700.0</td>\n",
       "    </tr>\n",
       "    <tr>\n",
       "      <th>10</th>\n",
       "      <td>53011</td>\n",
       "      <td>505013.0</td>\n",
       "    </tr>\n",
       "    <tr>\n",
       "      <th>2</th>\n",
       "      <td>53067</td>\n",
       "      <td>295729.0</td>\n",
       "    </tr>\n",
       "    <tr>\n",
       "      <th>0</th>\n",
       "      <td>53077</td>\n",
       "      <td>256533.0</td>\n",
       "    </tr>\n",
       "  </tbody>\n",
       "</table>\n",
       "</div>"
      ],
      "text/plain": [
       "    county  population\n",
       "6    53033   2272571.0\n",
       "3    53063    540700.0\n",
       "10   53011    505013.0\n",
       "2    53067    295729.0\n",
       "0    53077    256533.0"
      ]
     },
     "execution_count": 28,
     "metadata": {},
     "output_type": "execute_result"
    }
   ],
   "source": [
    "df_hit_counties = df_hit_counties.sort_values(by=\"population\", ascending=False)[:5]\n",
    "df_hit_counties"
   ]
  },
  {
   "cell_type": "markdown",
   "metadata": {},
   "source": [
    "Save dataframe as csv"
   ]
  },
  {
   "cell_type": "code",
   "execution_count": 29,
   "metadata": {},
   "outputs": [],
   "source": [
    "df_hit_counties.to_csv(data_folder+\"/affected_counties_WA.csv\")"
   ]
  },
  {
   "cell_type": "markdown",
   "metadata": {},
   "source": [
    "# Select non-affected counties"
   ]
  },
  {
   "cell_type": "markdown",
   "metadata": {},
   "source": [
    "By using the distance file, select counties that have a population size in the 75th percentile of the distribution"
   ]
  },
  {
   "cell_type": "code",
   "execution_count": 30,
   "metadata": {},
   "outputs": [],
   "source": [
    "perc_75 = shp['pop2020'].astype(\"int\").describe()[\"75%\"]"
   ]
  },
  {
   "cell_type": "markdown",
   "metadata": {},
   "source": [
    "Useful pre-processing and rank counties by latitude"
   ]
  },
  {
   "cell_type": "code",
   "execution_count": 31,
   "metadata": {},
   "outputs": [
    {
     "name": "stderr",
     "output_type": "stream",
     "text": [
      "/var/folders/x2/vgw4xx790y58wb87xzlpylpc0000gr/T/ipykernel_30492/2662990441.py:2: UserWarning: Geometry is in a geographic CRS. Results from 'centroid' are likely incorrect. Use 'GeoSeries.to_crs()' to re-project geometries to a projected CRS before this operation.\n",
      "\n",
      "  shp[\"lat\"] = shp.centroid.y\n",
      "/var/folders/x2/vgw4xx790y58wb87xzlpylpc0000gr/T/ipykernel_30492/2662990441.py:3: UserWarning: Geometry is in a geographic CRS. Results from 'centroid' are likely incorrect. Use 'GeoSeries.to_crs()' to re-project geometries to a projected CRS before this operation.\n",
      "\n",
      "  shp[\"lon\"] = shp.centroid.x\n"
     ]
    }
   ],
   "source": [
    "counties_filtered=shp[shp['pop2020']>11000]['GEO_ID'].values\n",
    "shp[\"lat\"] = shp.centroid.y\n",
    "shp[\"lon\"] = shp.centroid.x\n",
    "shp=shp.sort_values(by='lat',ascending=False)\n",
    "codes_rank=shp['GEO_ID'].values # ranking counties by latitutde"
   ]
  },
  {
   "cell_type": "markdown",
   "metadata": {},
   "source": [
    "Select non-affected counties as those which are in modularity class 0, have at least one observation in the timeframe of reference and have a max value of air quality index of 100 (non problematic air quality)."
   ]
  },
  {
   "cell_type": "markdown",
   "metadata": {},
   "source": [
    "Read WA affected counties as reference to select non-affected counties that will then be considered as baseline for the entire analysis"
   ]
  },
  {
   "cell_type": "code",
   "execution_count": 32,
   "metadata": {},
   "outputs": [],
   "source": [
    "df_hit_counties = pd.read_csv(data_folder+\"/affected_counties_WA.csv\")"
   ]
  },
  {
   "cell_type": "code",
   "execution_count": 33,
   "metadata": {},
   "outputs": [],
   "source": [
    "list_nohit = []\n",
    "for county in df_hit_counties[\"county\"]:\n",
    "    dist_c=dist.loc[county].sort_values(by='dist_km')\n",
    "    dist_c=dist_c[(dist_c.county2.isin(shp.GEO_ID))][\"county2\"]\n",
    "    for el in list(dist_c):\n",
    "        if len(df_community[(df_community[\"node\"]==el)&(df_community[\"modularity_class\"]==0)])>0:\n",
    "            if len(airquality_target[airquality_target[\"fips_code\"]==el])>0:\n",
    "                if max(airquality_target[airquality_target[\"fips_code\"]==el][\"AQI index\"])<=100:\n",
    "                    list_nohit.append(el)"
   ]
  },
  {
   "cell_type": "markdown",
   "metadata": {},
   "source": [
    "Save population of non-affected counties"
   ]
  },
  {
   "cell_type": "code",
   "execution_count": 34,
   "metadata": {},
   "outputs": [],
   "source": [
    "list_pop = []\n",
    "for el in list(set(list_nohit)):\n",
    "    pop = shp[shp[\"GEO_ID\"]==el][\"pop2020\"]\n",
    "    list_pop.append(pop.values[0])"
   ]
  },
  {
   "cell_type": "code",
   "execution_count": 35,
   "metadata": {},
   "outputs": [],
   "source": [
    "list_nohit = list(set(list_nohit))"
   ]
  },
  {
   "cell_type": "markdown",
   "metadata": {},
   "source": [
    "Save non-affected counties in csv file"
   ]
  },
  {
   "cell_type": "code",
   "execution_count": 36,
   "metadata": {},
   "outputs": [],
   "source": [
    "df_pop = pd.DataFrame({\"county\": list_nohit, \n",
    "                       \"pop\": list_pop})\n",
    "\n",
    "df_pop = df_pop[df_pop[\"pop\"]>=perc_75]\n",
    "\n",
    "df_pop.to_csv(data_folder+\"/non_affected_top25pop_only2020.csv\")"
   ]
  },
  {
   "cell_type": "code",
   "execution_count": null,
   "metadata": {},
   "outputs": [],
   "source": []
  }
 ],
 "metadata": {
  "kernelspec": {
   "display_name": "Python 3 (ipykernel)",
   "language": "python",
   "name": "python3"
  },
  "language_info": {
   "codemirror_mode": {
    "name": "ipython",
    "version": 3
   },
   "file_extension": ".py",
   "mimetype": "text/x-python",
   "name": "python",
   "nbconvert_exporter": "python",
   "pygments_lexer": "ipython3",
   "version": "3.10.8"
  }
 },
 "nbformat": 4,
 "nbformat_minor": 4
}
